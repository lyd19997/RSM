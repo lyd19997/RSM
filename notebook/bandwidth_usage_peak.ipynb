{
 "cells": [
  {
   "cell_type": "code",
   "execution_count": 1,
   "metadata": {
    "collapsed": true
   },
   "outputs": [],
   "source": [
    "#!/usr/bin/env Python\n",
    "# coding=utf-8\n",
    "import os\n",
    "%matplotlib inline\n",
    "\n",
    "import matplotlib\n",
    "import numpy as np\n",
    "import matplotlib.pyplot as plt\n",
    "import pandas as pd\n"
   ]
  },
  {
   "cell_type": "markdown",
   "metadata": {},
   "source": [
    "计算最终受益"
   ]
  },
  {
   "cell_type": "code",
   "execution_count": 2,
   "metadata": {
    "collapsed": true
   },
   "outputs": [],
   "source": [
    "def parse_data(filename):\n",
    "#     result = {}\n",
    "    peak = list()\n",
    "    usageTime = list()\n",
    "    income, cost = 0, 0\n",
    "    period = 10\n",
    "    with open(filename, 'r+') as file_to_read:\n",
    "        lines = file_to_read.readline() # 整行读取数据\n",
    "        lines = file_to_read.readline()\n",
    "#         result['runtime'] = float(lines.split()[0])\n",
    "        lines = file_to_read.readline()\n",
    "#         result['receiveNum'] = int(lines.split()[0])\n",
    "        lines = file_to_read.readline()\n",
    "#         result['reqNum'] = int(lines.split()[0])\n",
    "        lines = file_to_read.readline()\n",
    "        income = float(lines.split()[0])\n",
    "        lines = file_to_read.readline()\n",
    "        cost = float(lines.split()[0])\n",
    "        while True:\n",
    "            lines = file_to_read.readline() # 整行读取数据\n",
    "            if not lines:\n",
    "                break\n",
    "            if \"--peakPerEdge--\" in lines:\n",
    "                break\n",
    "        lines = file_to_read.readline()\n",
    "        peak = [float(i) for i in lines.split()]\n",
    "        while True:\n",
    "            lines = file_to_read.readline() # 整行读取数据\n",
    "            if not lines:\n",
    "                break\n",
    "            if \"--volPerTimeEdge--\" in lines:\n",
    "                break\n",
    "        while True:\n",
    "            lines = file_to_read.readline() # 整行读取数据\n",
    "            if not lines:\n",
    "                break\n",
    "            u_temp = [float(i) for i in lines.split()]\n",
    "            usageTime.append(u_temp)\n",
    "        peak = np.array(peak)\n",
    "        usageTime = np.array(usageTime)\n",
    "#     result['peak'] = peak\n",
    "#     result['usageTime'] = usageTime\n",
    "    usageTime = usageTime.T\n",
    "#     print(len(usageTime))\n",
    "#     print(len(peak))\n",
    "    usageEdge = list()\n",
    "    for i in range(len(peak)):\n",
    "        if peak[i]:\n",
    "#             print(peak[i])\n",
    "            usageEdge.append(sum(usageTime[i]) / period / peak[i])\n",
    "    #     for price in bandwidthPrice:\n",
    "    #         result[price] = 0\n",
    "    #     for i in range(len(peak)):\n",
    "    #         result[bandwidthPrice[i]] += peak[i]\n",
    "#     print(result)\n",
    "#         if not peak[i]:\n",
    "#             usageEdge.append(0)\n",
    "#             continue\n",
    "#     usageEdge.append(sum(usageTime[i]) / period / peak[i])\n",
    "#     price.append(bandwidthPrice[i])\n",
    "#     usageEdge.append(sum(usageTime[i]) / period / peak[i])\n",
    "#     price.append(1)\n",
    "\n",
    "#     print(usageEdge)\n",
    "    return income - cost\n",
    "\n",
    "       \n",
    "#     print(usageEdge)\n",
    "#     keys = sorted(result.keys())\n",
    "#     keys.sort()\n",
    "#     for key in keys:\n",
    "#         print (key)\n",
    "#     return [result[key] for key in keys]"
   ]
  },
  {
   "cell_type": "code",
   "execution_count": 3,
   "metadata": {},
   "outputs": [
    {
     "name": "stdout",
     "output_type": "stream",
     "text": [
      "10\n",
      "20\n",
      "30\n",
      "40\n",
      "50\n",
      "MAA\n",
      "-29121.0\n",
      "-43061.0\n",
      "-68569.0\n",
      "-87398.0\n",
      "-108289.0\n",
      "FlowBase\n",
      "-41384.0\n",
      "-73292.0\n",
      "-107763.0\n",
      "-133703.0\n",
      "-157078.0\n",
      "[-29121.0, -43061.0, -68569.0, -87398.0, -108289.0]\n",
      "[-41384.0, -73292.0, -107763.0, -133703.0, -157078.0]\n",
      "[-0.4211050444696267, -0.7020505794106036, -0.5715994108124662, -0.529817615963752, -0.45054437662181757]\n"
     ]
    }
   ],
   "source": [
    "algs = [\"MAA\", \"FlowBase\"]\n",
    "lambda_ = list()\n",
    "srm, greedy = list(), list()\n",
    "for i in range(10, 60, 10):\n",
    "    lambda_.append(str(i))\n",
    "    print(i)\n",
    "# print(lambda_)\n",
    "for alg in algs:\n",
    "    print(alg)\n",
    "    for lam in lambda_:\n",
    "#         print(lam)\n",
    "        data = parse_data(os.path.join(alg, lam + '.txt'))\n",
    "        print(data)\n",
    "        if alg == algs[0]:\n",
    "            srm.append(data)\n",
    "        if alg == algs[1]:\n",
    "            greedy.append(data)\n",
    "            \n",
    "            \n",
    "print(srm)\n",
    "print(greedy)\n",
    "print([(srm[i] - greedy[i])/ srm[i] for i in range(len(lambda_))])"
   ]
  },
  {
   "cell_type": "code",
   "execution_count": 5,
   "metadata": {},
   "outputs": [],
   "source": [
    "bandwidthPrice = list()\n",
    "vertexNum, EdgeNum = 0, 0\n",
    "with open(\"Topo_node_10.txt\", 'r+') as file:\n",
    "    line = file.readline()\n",
    "    vertexNum, EdgeNum = [int(i) for i in line.split()]\n",
    "    for i in range(EdgeNum):\n",
    "        line = file.readline()\n",
    "        src, dst, price, lim = [int(i) for i in line.split()]\n",
    "        bandwidthPrice.append(price)\n",
    "        bandwidthPrice.append(price)"
   ]
  },
  {
   "cell_type": "code",
   "execution_count": 6,
   "metadata": {},
   "outputs": [
    {
     "name": "stdout",
     "output_type": "stream",
     "text": [
      "[4, 4, 85, 85, 6, 6, 68, 68, 85, 85, 20, 20, 85, 85, 68, 68, 37, 37, 28, 28, 28, 28, 4, 4, 28, 28, 28, 28, 4, 4]\n"
     ]
    }
   ],
   "source": [
    "print (bandwidthPrice)"
   ]
  },
  {
   "cell_type": "markdown",
   "metadata": {},
   "source": [
    "计算请求接受率"
   ]
  },
  {
   "cell_type": "code",
   "execution_count": 7,
   "metadata": {
    "collapsed": true
   },
   "outputs": [],
   "source": [
    "def acceptance_data(filename):\n",
    "#     result = {}\n",
    "    peak = list()\n",
    "    usageTime = list()\n",
    "    period = 10\n",
    "    receiveNum = 0\n",
    "    reqNum = 0\n",
    "    with open(filename, 'r+') as file_to_read:\n",
    "        lines = file_to_read.readline() # 整行读取数据\n",
    "        lines = file_to_read.readline()\n",
    "#         result['runtime'] = float(lines.split()[0])\n",
    "        lines = file_to_read.readline()\n",
    "        receiveNum = int(lines.split()[0])\n",
    "        lines = file_to_read.readline()\n",
    "        reqNum = int(lines.split()[0])\n",
    "        lines = file_to_read.readline()\n",
    "#         result['income'] = int(lines.split()[0])\n",
    "        lines = file_to_read.readline()\n",
    "#         result['cost'] = int(lines.split()[0])\n",
    "        while True:\n",
    "            lines = file_to_read.readline() # 整行读取数据\n",
    "            if not lines:\n",
    "                break\n",
    "            if \"--peakPerEdge--\" in lines:\n",
    "                break\n",
    "        lines = file_to_read.readline()\n",
    "        peak = [float(i) for i in lines.split()]\n",
    "        while True:\n",
    "            lines = file_to_read.readline() # 整行读取数据\n",
    "            if not lines:\n",
    "                break\n",
    "            if \"--volPerTimeEdge--\" in lines:\n",
    "                break\n",
    "        while True:\n",
    "            lines = file_to_read.readline() # 整行读取数据\n",
    "            if not lines:\n",
    "                break\n",
    "            u_temp = [float(i) for i in lines.split()]\n",
    "            usageTime.append(u_temp)\n",
    "        peak = np.array(peak)\n",
    "        usageTime = np.array(usageTime)\n",
    "#     result['peak'] = peak\n",
    "#     result['usageTime'] = usageTime\n",
    "    usageTime = usageTime.T\n",
    "#     print(len(usageTime))\n",
    "#     print(len(peak))\n",
    "    usageEdge = list()\n",
    "    return receiveNum / reqNum\n"
   ]
  },
  {
   "cell_type": "code",
   "execution_count": 8,
   "metadata": {},
   "outputs": [
    {
     "name": "stdout",
     "output_type": "stream",
     "text": [
      "MAA\n",
      "1.0\n",
      "1.0\n",
      "1.0\n",
      "1.0\n",
      "1.0\n",
      "FlowBase\n",
      "1.0\n",
      "1.0\n",
      "1.0\n",
      "1.0\n",
      "1.0\n"
     ]
    }
   ],
   "source": [
    "# lambda_ = list()\n",
    "# # lambda_ = [\"50\", \"100\", \"150\", \"200\"]\n",
    "# for i in range(10, 60, 10):\n",
    "#     lambda_.append(str(i))\n",
    "#     print(i)\n",
    "for alg in algs:\n",
    "    print(alg)\n",
    "    for lam in lambda_:\n",
    "#         print(lam)\n",
    "        print(acceptance_data(os.path.join(alg, lam + '.txt')))"
   ]
  },
  {
   "cell_type": "markdown",
   "metadata": {},
   "source": [
    "计算带宽利用率"
   ]
  },
  {
   "cell_type": "code",
   "execution_count": 16,
   "metadata": {
    "collapsed": true
   },
   "outputs": [],
   "source": [
    "def parse_data(filename, bandwidthPrice):\n",
    "    result = {}\n",
    "    flow = dict()\n",
    "    peak = list()\n",
    "    usageTime = list()\n",
    "    period = 50\n",
    "    with open(filename, 'r+') as file_to_read:\n",
    "        lines = file_to_read.readline() # 整行读取数据\n",
    "        lines = file_to_read.readline()\n",
    "#         result['runtime'] = float(lines.split()[0])\n",
    "        lines = file_to_read.readline()\n",
    "        receiveNum = int(lines.split()[0])\n",
    "#         result['receiveNum'] = int(lines.split()[0])\n",
    "        lines = file_to_read.readline()\n",
    "        reqNum = int(lines.split()[0])\n",
    "#         return receiveNum / reqNum\n",
    "#         result['reqNum'] = int(lines.split()[0])\n",
    "        lines = file_to_read.readline()\n",
    "#         return(float(lines.split()[0]))\n",
    "#         result['income'] = int(lines.split()[0])\n",
    "        lines = file_to_read.readline()\n",
    "#         return(int(lines.split()[0]))#return cost\n",
    "        while True:\n",
    "            lines = file_to_read.readline() # 整行读取数据\n",
    "            if not lines:\n",
    "                break\n",
    "            if \"--peakPerEdge--\" in lines:\n",
    "                break\n",
    "        lines = file_to_read.readline()\n",
    "        peak = [float(i) for i in lines.split()]\n",
    "        while True:\n",
    "            lines = file_to_read.readline() # 整行读取数据\n",
    "            if not lines:\n",
    "                break\n",
    "            if \"--volPerTimeEdge--\" in lines:\n",
    "                break\n",
    "        while True:\n",
    "            lines = file_to_read.readline() # 整行读取数据\n",
    "            if not lines:\n",
    "                break\n",
    "            u_temp = [float(i) for i in lines.split()]\n",
    "            usageTime.append(u_temp)\n",
    "        peak = np.array(peak)\n",
    "        usageTime = np.array(usageTime)\n",
    "    \n",
    "#     return usage\n",
    "#     for price in bandwidthPrice:\n",
    "#         result[price] = 0\n",
    "#         flow[price] = 0\n",
    "#     for price in bandwidthPrice:\n",
    "#         result[price] += 1\n",
    "#     for i in range(len(peak)):\n",
    "#         flow[bandwidthPrice[i]] += peak[i]\n",
    "# #         for t in range(len(usageTime)):\n",
    "# #             flow[bandwidthPrice[i]] += usageTime[t][i]\n",
    "#     for key in result.keys():\n",
    "#         result[key] = flow[key]  \n",
    "#     keys = sorted(result.keys())\n",
    "# # #     keys.sort()\n",
    "#     for key in keys:\n",
    "#         print (key)\n",
    "#     return [result[key] for key in keys]\n",
    "\n",
    "    usageTime = usageTime.T\n",
    "    result = list()\n",
    "    for i in range(len(peak)):\n",
    "        if peak[i]:\n",
    "            temp = list()\n",
    "            for t in range(len(usageTime[i])):\n",
    "                if usageTime[i][t]  > 0.5 * peak[i]:\n",
    "                    temp.append(usageTime[i][t])\n",
    "            if temp:\n",
    "                result.append(sum(temp)/len(temp)/peak[i])\n",
    "#             else: result.append(0)\n",
    "#     print(len(result))\n",
    "    return sum(result)/len(result)\n",
    "        \n",
    "            \n",
    "#     result['peak'] = peak\n",
    "#     result['usageTime'] = usageTime\n",
    "#     usageTime = usageTime.T\n",
    "#     usageEdge = list()\n",
    "    \n",
    "# #     print(result)\n",
    "# #         if not peak[i]:\n",
    "# #             usageEdge.append(0)\n",
    "# #             continue\n",
    "# #         usageEdge.append(bandwidthPrice[i] * sum(usageTime[i]) / period / peak[i])\n",
    "# #         price.append(bandwidthPrice[i])\n",
    "# #         usageEdge.append(sum(usageTime[i]) / period / peak[i])\n",
    "# #         price.append(1)\n",
    "\n",
    "       \n",
    "# #     print(usageEdge)"
   ]
  },
  {
   "cell_type": "code",
   "execution_count": 22,
   "metadata": {},
   "outputs": [
    {
     "name": "stdout",
     "output_type": "stream",
     "text": [
      "MAA\n",
      "0.763201837514\n",
      "0.768524847102\n",
      "0.780466503822\n",
      "0.809323034422\n",
      "0.8097401738\n",
      "FlowBase\n",
      "0.737839754923\n",
      "0.736826900923\n",
      "0.744750848558\n",
      "0.757908453613\n",
      "0.765209298296\n"
     ]
    }
   ],
   "source": [
    "# algs = [\"BLSRM\", \"Amoeba\"]\n",
    "for alg in algs:\n",
    "    print(alg)\n",
    "    for lam in lambda_:\n",
    "#         print(lam)\n",
    "        print(parse_data(os.path.join(alg, lam + '.txt'), bandwidthPrice))"
   ]
  },
  {
   "cell_type": "code",
   "execution_count": null,
   "metadata": {
    "collapsed": true
   },
   "outputs": [],
   "source": []
  }
 ],
 "metadata": {
  "kernelspec": {
   "display_name": "Python 3",
   "language": "python",
   "name": "python3"
  },
  "language_info": {
   "codemirror_mode": {
    "name": "ipython",
    "version": 3
   },
   "file_extension": ".py",
   "mimetype": "text/x-python",
   "name": "python",
   "nbconvert_exporter": "python",
   "pygments_lexer": "ipython3",
   "version": "3.6.3"
  }
 },
 "nbformat": 4,
 "nbformat_minor": 2
}
